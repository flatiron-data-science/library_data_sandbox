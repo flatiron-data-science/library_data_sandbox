{
 "cells": [
  {
   "cell_type": "code",
   "execution_count": 1,
   "metadata": {},
   "outputs": [],
   "source": [
    "import pandas as pd"
   ]
  },
  {
   "cell_type": "markdown",
   "metadata": {},
   "source": [
    "To begin with I'll work with the first 360 entries in the Seattle library dataset, library_360.csv"
   ]
  },
  {
   "cell_type": "code",
   "execution_count": 3,
   "metadata": {},
   "outputs": [],
   "source": [
    "books = pd.read_csv('data/library_360.csv')"
   ]
  },
  {
   "cell_type": "code",
   "execution_count": 4,
   "metadata": {},
   "outputs": [
    {
     "data": {
      "text/html": [
       "<div>\n",
       "<style scoped>\n",
       "    .dataframe tbody tr th:only-of-type {\n",
       "        vertical-align: middle;\n",
       "    }\n",
       "\n",
       "    .dataframe tbody tr th {\n",
       "        vertical-align: top;\n",
       "    }\n",
       "\n",
       "    .dataframe thead th {\n",
       "        text-align: right;\n",
       "    }\n",
       "</style>\n",
       "<table border=\"1\" class=\"dataframe\">\n",
       "  <thead>\n",
       "    <tr style=\"text-align: right;\">\n",
       "      <th></th>\n",
       "      <th>ID</th>\n",
       "      <th>CheckoutYear</th>\n",
       "      <th>BibNumber</th>\n",
       "      <th>ItemBarcode</th>\n",
       "      <th>ItemType</th>\n",
       "      <th>Collection</th>\n",
       "      <th>CallNumber</th>\n",
       "      <th>ItemTitle</th>\n",
       "      <th>Subjects</th>\n",
       "      <th>CheckoutDateTime</th>\n",
       "    </tr>\n",
       "  </thead>\n",
       "  <tbody>\n",
       "    <tr>\n",
       "      <th>0</th>\n",
       "      <td>201009281813000010070674949</td>\n",
       "      <td>2010</td>\n",
       "      <td>2408480</td>\n",
       "      <td>10070674949</td>\n",
       "      <td>acdvd</td>\n",
       "      <td>cadvd</td>\n",
       "      <td>DVD BIG LOV Season 1</td>\n",
       "      <td>Big love The complete first season</td>\n",
       "      <td>Polygamy Utah Salt Lake City Drama, Families U...</td>\n",
       "      <td>09/28/2010 06:13:00 PM</td>\n",
       "    </tr>\n",
       "    <tr>\n",
       "      <th>1</th>\n",
       "      <td>201012131633000010052748133</td>\n",
       "      <td>2010</td>\n",
       "      <td>2286911</td>\n",
       "      <td>10052748133</td>\n",
       "      <td>acdvd</td>\n",
       "      <td>nadvd</td>\n",
       "      <td>DVD TO BE O</td>\n",
       "      <td>To be or not to be</td>\n",
       "      <td>Comedy films, Video recordings for the hearing...</td>\n",
       "      <td>12/13/2010 04:33:00 PM</td>\n",
       "    </tr>\n",
       "    <tr>\n",
       "      <th>2</th>\n",
       "      <td>201010181849000010060694659</td>\n",
       "      <td>2010</td>\n",
       "      <td>2493823</td>\n",
       "      <td>10060694659</td>\n",
       "      <td>acdvd</td>\n",
       "      <td>nadvd</td>\n",
       "      <td>DVD BOONDOC</td>\n",
       "      <td>boondock saints</td>\n",
       "      <td>Brothers Drama, Video recordings for the heari...</td>\n",
       "      <td>10/18/2010 06:49:00 PM</td>\n",
       "    </tr>\n",
       "    <tr>\n",
       "      <th>3</th>\n",
       "      <td>200809291840000010055096019</td>\n",
       "      <td>2008</td>\n",
       "      <td>2346314</td>\n",
       "      <td>10055096019</td>\n",
       "      <td>acdvd</td>\n",
       "      <td>nadvd</td>\n",
       "      <td>DVD UNFINIS</td>\n",
       "      <td>unfinished life</td>\n",
       "      <td>Video recordings for the hearing impaired, Fea...</td>\n",
       "      <td>09/29/2008 06:40:00 PM</td>\n",
       "    </tr>\n",
       "    <tr>\n",
       "      <th>4</th>\n",
       "      <td>200908121704000010056851347</td>\n",
       "      <td>2009</td>\n",
       "      <td>1742687</td>\n",
       "      <td>10056851347</td>\n",
       "      <td>acbk</td>\n",
       "      <td>nanf</td>\n",
       "      <td>508.31641 STEINBE 1995</td>\n",
       "      <td>log from the Sea of Cortez</td>\n",
       "      <td>Steinbeck John 1902 1968 Travel Mexico Califor...</td>\n",
       "      <td>08/12/2009 05:04:00 PM</td>\n",
       "    </tr>\n",
       "  </tbody>\n",
       "</table>\n",
       "</div>"
      ],
      "text/plain": [
       "                            ID  CheckoutYear  BibNumber  ItemBarcode ItemType  \\\n",
       "0  201009281813000010070674949          2010    2408480  10070674949    acdvd   \n",
       "1  201012131633000010052748133          2010    2286911  10052748133    acdvd   \n",
       "2  201010181849000010060694659          2010    2493823  10060694659    acdvd   \n",
       "3  200809291840000010055096019          2008    2346314  10055096019    acdvd   \n",
       "4  200908121704000010056851347          2009    1742687  10056851347     acbk   \n",
       "\n",
       "  Collection              CallNumber                           ItemTitle  \\\n",
       "0      cadvd    DVD BIG LOV Season 1  Big love The complete first season   \n",
       "1      nadvd             DVD TO BE O                  To be or not to be   \n",
       "2      nadvd             DVD BOONDOC                     boondock saints   \n",
       "3      nadvd             DVD UNFINIS                     unfinished life   \n",
       "4       nanf  508.31641 STEINBE 1995          log from the Sea of Cortez   \n",
       "\n",
       "                                            Subjects        CheckoutDateTime  \n",
       "0  Polygamy Utah Salt Lake City Drama, Families U...  09/28/2010 06:13:00 PM  \n",
       "1  Comedy films, Video recordings for the hearing...  12/13/2010 04:33:00 PM  \n",
       "2  Brothers Drama, Video recordings for the heari...  10/18/2010 06:49:00 PM  \n",
       "3  Video recordings for the hearing impaired, Fea...  09/29/2008 06:40:00 PM  \n",
       "4  Steinbeck John 1902 1968 Travel Mexico Califor...  08/12/2009 05:04:00 PM  "
      ]
     },
     "execution_count": 4,
     "metadata": {},
     "output_type": "execute_result"
    }
   ],
   "source": [
    "books.head()"
   ]
  },
  {
   "cell_type": "code",
   "execution_count": null,
   "metadata": {},
   "outputs": [],
   "source": []
  }
 ],
 "metadata": {
  "kernelspec": {
   "display_name": "Python [conda env:root]",
   "language": "python",
   "name": "conda-root-py"
  },
  "language_info": {
   "codemirror_mode": {
    "name": "ipython",
    "version": 3
   },
   "file_extension": ".py",
   "mimetype": "text/x-python",
   "name": "python",
   "nbconvert_exporter": "python",
   "pygments_lexer": "ipython3",
   "version": "3.7.1"
  }
 },
 "nbformat": 4,
 "nbformat_minor": 2
}
